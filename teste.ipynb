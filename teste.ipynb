{
 "cells": [
  {
   "cell_type": "code",
   "execution_count": 28,
   "metadata": {},
   "outputs": [],
   "source": [
    "import pandas as pd\n",
    "import numpy as np\n",
    "import matplotlib.pyplot as plt"
   ]
  },
  {
   "cell_type": "code",
   "execution_count": 12,
   "metadata": {},
   "outputs": [
    {
     "data": {
      "text/html": [
       "<div>\n",
       "<style scoped>\n",
       "    .dataframe tbody tr th:only-of-type {\n",
       "        vertical-align: middle;\n",
       "    }\n",
       "\n",
       "    .dataframe tbody tr th {\n",
       "        vertical-align: top;\n",
       "    }\n",
       "\n",
       "    .dataframe thead th {\n",
       "        text-align: right;\n",
       "    }\n",
       "</style>\n",
       "<table border=\"1\" class=\"dataframe\">\n",
       "  <thead>\n",
       "    <tr style=\"text-align: right;\">\n",
       "      <th></th>\n",
       "      <th>deepseek-r1:1.5b</th>\n",
       "      <th>Idioma</th>\n",
       "      <th>deepseek-r1:7b</th>\n",
       "      <th>Idioma.1</th>\n",
       "      <th>deepseek-r1:8b</th>\n",
       "      <th>Idioma.2</th>\n",
       "      <th>deepseek-r1:14b</th>\n",
       "      <th>Idioma.3</th>\n",
       "      <th>mistral-nemo:12b</th>\n",
       "      <th>Idioma.4</th>\n",
       "      <th>...</th>\n",
       "      <th>phi3:3.8b</th>\n",
       "      <th>Idioma.6</th>\n",
       "      <th>phi3:14b</th>\n",
       "      <th>Idioma.7</th>\n",
       "      <th>phi4:14b</th>\n",
       "      <th>Idioma.8</th>\n",
       "      <th>gemma2:2b</th>\n",
       "      <th>Idioma.9</th>\n",
       "      <th>gemma2:9b</th>\n",
       "      <th>Idioma.10</th>\n",
       "    </tr>\n",
       "  </thead>\n",
       "  <tbody>\n",
       "    <tr>\n",
       "      <th>0</th>\n",
       "      <td>1</td>\n",
       "      <td>0</td>\n",
       "      <td>1</td>\n",
       "      <td>0</td>\n",
       "      <td>1</td>\n",
       "      <td>1</td>\n",
       "      <td>1</td>\n",
       "      <td>0</td>\n",
       "      <td>1</td>\n",
       "      <td>1</td>\n",
       "      <td>...</td>\n",
       "      <td>1</td>\n",
       "      <td>0</td>\n",
       "      <td>1</td>\n",
       "      <td>1</td>\n",
       "      <td>1</td>\n",
       "      <td>1</td>\n",
       "      <td>1</td>\n",
       "      <td>1</td>\n",
       "      <td>1</td>\n",
       "      <td>1</td>\n",
       "    </tr>\n",
       "    <tr>\n",
       "      <th>1</th>\n",
       "      <td>1</td>\n",
       "      <td>0</td>\n",
       "      <td>1</td>\n",
       "      <td>0</td>\n",
       "      <td>1</td>\n",
       "      <td>1</td>\n",
       "      <td>1</td>\n",
       "      <td>1</td>\n",
       "      <td>1</td>\n",
       "      <td>1</td>\n",
       "      <td>...</td>\n",
       "      <td>1</td>\n",
       "      <td>0</td>\n",
       "      <td>1</td>\n",
       "      <td>0</td>\n",
       "      <td>1</td>\n",
       "      <td>1</td>\n",
       "      <td>1</td>\n",
       "      <td>1</td>\n",
       "      <td>1</td>\n",
       "      <td>1</td>\n",
       "    </tr>\n",
       "    <tr>\n",
       "      <th>2</th>\n",
       "      <td>1</td>\n",
       "      <td>1</td>\n",
       "      <td>1</td>\n",
       "      <td>1</td>\n",
       "      <td>1</td>\n",
       "      <td>1</td>\n",
       "      <td>1</td>\n",
       "      <td>1</td>\n",
       "      <td>1</td>\n",
       "      <td>1</td>\n",
       "      <td>...</td>\n",
       "      <td>1</td>\n",
       "      <td>1</td>\n",
       "      <td>1</td>\n",
       "      <td>0</td>\n",
       "      <td>1</td>\n",
       "      <td>1</td>\n",
       "      <td>1</td>\n",
       "      <td>1</td>\n",
       "      <td>1</td>\n",
       "      <td>0</td>\n",
       "    </tr>\n",
       "    <tr>\n",
       "      <th>3</th>\n",
       "      <td>1</td>\n",
       "      <td>0</td>\n",
       "      <td>1</td>\n",
       "      <td>0</td>\n",
       "      <td>1</td>\n",
       "      <td>0</td>\n",
       "      <td>1</td>\n",
       "      <td>1</td>\n",
       "      <td>1</td>\n",
       "      <td>1</td>\n",
       "      <td>...</td>\n",
       "      <td>1</td>\n",
       "      <td>1</td>\n",
       "      <td>1</td>\n",
       "      <td>1</td>\n",
       "      <td>1</td>\n",
       "      <td>1</td>\n",
       "      <td>1</td>\n",
       "      <td>1</td>\n",
       "      <td>1</td>\n",
       "      <td>1</td>\n",
       "    </tr>\n",
       "    <tr>\n",
       "      <th>4</th>\n",
       "      <td>1</td>\n",
       "      <td>0</td>\n",
       "      <td>1</td>\n",
       "      <td>1</td>\n",
       "      <td>1</td>\n",
       "      <td>1</td>\n",
       "      <td>1</td>\n",
       "      <td>1</td>\n",
       "      <td>1</td>\n",
       "      <td>1</td>\n",
       "      <td>...</td>\n",
       "      <td>1</td>\n",
       "      <td>1</td>\n",
       "      <td>1</td>\n",
       "      <td>1</td>\n",
       "      <td>1</td>\n",
       "      <td>1</td>\n",
       "      <td>1</td>\n",
       "      <td>1</td>\n",
       "      <td>1</td>\n",
       "      <td>0</td>\n",
       "    </tr>\n",
       "  </tbody>\n",
       "</table>\n",
       "<p>5 rows × 22 columns</p>\n",
       "</div>"
      ],
      "text/plain": [
       "   deepseek-r1:1.5b  Idioma  deepseek-r1:7b  Idioma.1  deepseek-r1:8b  \\\n",
       "0                 1       0               1         0               1   \n",
       "1                 1       0               1         0               1   \n",
       "2                 1       1               1         1               1   \n",
       "3                 1       0               1         0               1   \n",
       "4                 1       0               1         1               1   \n",
       "\n",
       "   Idioma.2  deepseek-r1:14b  Idioma.3  mistral-nemo:12b  Idioma.4  ...  \\\n",
       "0         1                1         0                 1         1  ...   \n",
       "1         1                1         1                 1         1  ...   \n",
       "2         1                1         1                 1         1  ...   \n",
       "3         0                1         1                 1         1  ...   \n",
       "4         1                1         1                 1         1  ...   \n",
       "\n",
       "   phi3:3.8b  Idioma.6  phi3:14b  Idioma.7  phi4:14b  Idioma.8  gemma2:2b  \\\n",
       "0          1         0         1         1         1         1          1   \n",
       "1          1         0         1         0         1         1          1   \n",
       "2          1         1         1         0         1         1          1   \n",
       "3          1         1         1         1         1         1          1   \n",
       "4          1         1         1         1         1         1          1   \n",
       "\n",
       "   Idioma.9  gemma2:9b  Idioma.10  \n",
       "0         1          1          1  \n",
       "1         1          1          1  \n",
       "2         1          1          0  \n",
       "3         1          1          1  \n",
       "4         1          1          0  \n",
       "\n",
       "[5 rows x 22 columns]"
      ]
     },
     "execution_count": 12,
     "metadata": {},
     "output_type": "execute_result"
    }
   ],
   "source": [
    "df = pd.read_csv('Verificação_da_acertividade_dos_modelos.csv')\n",
    "df = df.drop('Perguntas', axis=1)\n",
    "df.head()"
   ]
  },
  {
   "cell_type": "code",
   "execution_count": 21,
   "metadata": {},
   "outputs": [],
   "source": [
    "def acertividade(df):\n",
    "    acuracia = []\n",
    "    for i in df.columns:\n",
    "        if i == 'Perguntas':\n",
    "            continue\n",
    "        else:\n",
    "            print(f'{i}: {np.mean(df[i])}')\n",
    "            acuracia.append(np.mean(df[i]))\n",
    "    return acuracia"
   ]
  },
  {
   "cell_type": "code",
   "execution_count": 22,
   "metadata": {},
   "outputs": [],
   "source": [
    "model_columns = [col for col in df.columns if 'Idioma' not in col]\n",
    "acuracias =acertividade(df[model_columns])"
   ]
  },
  {
   "cell_type": "code",
   "execution_count": 29,
   "metadata": {},
   "outputs": [
    {
     "data": {
      "text/plain": [
       "<BarContainer object of 11 artists>"
      ]
     },
     "execution_count": 29,
     "metadata": {},
     "output_type": "execute_result"
    },
    {
     "data": {
      "image/png": "[encoded data removed]",
      "text/plain": [
       "<Figure size 1000x500 with 1 Axes>"
      ]
     },
     "metadata": {},
     "output_type": "display_data"
    }
   ],
   "source": [
    "plt.figure(figsize=(10, 5))\n",
    "plt.bar(model_columns, acuracias)"
   ]
  },
  {
   "cell_type": "code",
   "execution_count": 31,
   "metadata": {},
   "outputs": [
    {
     "name": "stdout",
     "output_type": "stream",
     "text": [
      "['deepseek-r1:1.5b', 'deepseek-r1:7b', 'deepseek-r1:8b', 'deepseek-r1:14b', 'mistral-nemo:12b', 'mistral:7b', 'phi3:3.8b', 'phi3:14b', 'phi4:14b', 'gemma2:2b', 'gemma2:9b']\n"
     ]
    }
   ],
   "source": [
    "print(model_columns)"
   ]
  },
  {
   "cell_type": "code",
   "execution_count": 39,
   "metadata": {},
   "outputs": [
    {
     "name": "stdout",
     "output_type": "stream",
     "text": [
      "[1.5, 7.0, 8.0, 14.0, 12.0, 7.0, 3.8, 14.0, 14.0, 2.0, 9.0]\n"
     ]
    }
   ],
   "source": [
    "bilion_params = [model.split(\":\")[1].replace(\"b\", \"\") for model in model_columns]\n",
    "bilion_params = [float(param) for param in bilion_params]\n",
    "print(bilion_params)"
   ]
  },
  {
   "cell_type": "code",
   "execution_count": 41,
   "metadata": {},
   "outputs": [
    {
     "data": {
      "text/plain": [
       "[<matplotlib.lines.Line2D at 0x732ca40261e0>]"
      ]
     },
     "execution_count": 41,
     "metadata": {},
     "output_type": "execute_result"
    },
    {
     "data": {
      "image/png": "[encoded data removed]",
      "text/plain": [
       "<Figure size 640x480 with 1 Axes>"
      ]
     },
     "metadata": {},
     "output_type": "display_data"
    }
   ],
   "source": [
    "plt.grid()\n",
    "plt.plot(bilion_params, acuracias, 'ro')"
   ]
  }
 ],
 "metadata": {
  "kernelspec": {
   "display_name": "venv",
   "language": "python",
   "name": "python3"
  },
  "language_info": {
   "codemirror_mode": {
    "name": "ipython",
    "version": 3
   },
   "file_extension": ".py",
   "mimetype": "text/x-python",
   "name": "python",
   "nbconvert_exporter": "python",
   "pygments_lexer": "ipython3",
   "version": "3.12.3"
  }
 },
 "nbformat": 4,
 "nbformat_minor": 2
}
